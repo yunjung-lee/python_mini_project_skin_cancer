{
  "nbformat": 4,
  "nbformat_minor": 0,
  "metadata": {
    "colab": {
      "name": "skin_cancer.ipynb",
      "version": "0.3.2",
      "provenance": [],
      "toc_visible": true,
      "include_colab_link": true
    },
    "kernelspec": {
      "name": "python3",
      "display_name": "Python 3"
    },
    "accelerator": "GPU"
  },
  "cells": [
    {
      "cell_type": "markdown",
      "metadata": {
        "id": "view-in-github",
        "colab_type": "text"
      },
      "source": [
        "<a href=\"https://colab.research.google.com/github/yunjung-lee/python_mini_project_skin_cancer/blob/master/skin_cancer.ipynb\" target=\"_parent\"><img src=\"https://colab.research.google.com/assets/colab-badge.svg\" alt=\"Open In Colab\"/></a>"
      ]
    },
    {
      "metadata": {
        "id": "oit0_Q-31L2Z",
        "colab_type": "text"
      },
      "cell_type": "markdown",
      "source": [
        "##########  skin cancer in kaggle dataset\n",
        "\n",
        "#### used knn ,dropout,save file"
      ]
    },
    {
      "metadata": {
        "id": "_45skpF-VPnL",
        "colab_type": "code",
        "colab": {}
      },
      "cell_type": "code",
      "source": [
        "!git clone https://github.com/yunjung-lee/python_mini_project_skin_cancer.git"
      ],
      "execution_count": 0,
      "outputs": []
    },
    {
      "metadata": {
        "id": "UBmBFf3XVX4W",
        "colab_type": "text"
      },
      "cell_type": "markdown",
      "source": [
        "!git clone  :  깃을 접속함\n",
        "https://github.com/yunjung-lee/python_mini_project_skin_cancer.git : 깃의 주소\n"
      ]
    },
    {
      "metadata": {
        "id": "6tYFE1U0VqKl",
        "colab_type": "code",
        "colab": {}
      },
      "cell_type": "code",
      "source": [
        "import numpy as np\n",
        "import tensorflow as tf\n",
        "from sklearn.model_selection import train_test_split\n",
        "import sklearn.preprocessing"
      ],
      "execution_count": 0,
      "outputs": []
    },
    {
      "metadata": {
        "id": "gsTccreZWRfl",
        "colab_type": "text"
      },
      "cell_type": "markdown",
      "source": [
        "opne data(data name :  hmnist_28_28_RGB.csv)"
      ]
    },
    {
      "metadata": {
        "id": "d65NH_PUWn_M",
        "colab_type": "code",
        "colab": {}
      },
      "cell_type": "code",
      "source": [
        "data = np.loadtxt('drive/Colab Notebooks/dataset/hmnist_28_28_RGB.csv', dtype = np.float32, delimiter = \",\", skiprows = 1,encoding = \"utf-8\")\n",
        "# print(data)\n",
        "xdata = data[:,:-1]\n",
        "ydata = data[:,[-1]]\n",
        "\n"
      ],
      "execution_count": 0,
      "outputs": []
    },
    {
      "metadata": {
        "id": "zgb5tqoni6PK",
        "colab_type": "text"
      },
      "cell_type": "markdown",
      "source": [
        "one_hot  encoding"
      ]
    },
    {
      "metadata": {
        "id": "L1DIHDjbi-hx",
        "colab_type": "code",
        "colab": {}
      },
      "cell_type": "code",
      "source": [
        "one_hot = sklearn.preprocessing.LabelBinarizer()\n",
        "ydata = one_hot.fit_transform(ydata)"
      ],
      "execution_count": 0,
      "outputs": []
    },
    {
      "metadata": {
        "id": "NJ8Jj7s-jGD5",
        "colab_type": "text"
      },
      "cell_type": "markdown",
      "source": [
        "train_ test_split"
      ]
    },
    {
      "metadata": {
        "id": "QHMv8BGdjUJw",
        "colab_type": "code",
        "colab": {}
      },
      "cell_type": "code",
      "source": [
        "X_train, X_test, y_train, y_test = train_test_split(xdata, ydata, test_size=0.33, random_state=42)"
      ],
      "execution_count": 0,
      "outputs": []
    },
    {
      "metadata": {
        "id": "5MyLGsNzjav4",
        "colab_type": "text"
      },
      "cell_type": "markdown",
      "source": [
        "nn-learning&drop-out 선언부\n",
        "output에서 sigmoid 사용에  softmax_cross_entropy_with_logits를 사용"
      ]
    },
    {
      "metadata": {
        "id": "kb7Mw0CVjpsQ",
        "colab_type": "code",
        "colab": {}
      },
      "cell_type": "code",
      "source": [
        "x = tf.placeholder(tf.float32, [None,28*28*3])\n",
        "y = tf.placeholder(tf.float32, [None,7])\n",
        "keep_prob=tf.placeholder(tf.float32)\n",
        "\n",
        "w1 = tf.Variable(tf.random_normal([28*28*3,256],stddev=0.01))\n",
        "L1 = tf.nn.relu(tf.matmul(x,w1))\n",
        "L1=tf.nn.dropout(L1,keep_prob)\n",
        "\n",
        "w2 = tf.Variable(tf.random_normal([256,256],stddev=0.01))\n",
        "L2 = tf.nn.relu(tf.matmul(L1,w2))\n",
        "L2=tf.nn.dropout(L2,keep_prob)\n",
        "\n",
        "w3 = tf.Variable(tf.random_normal([256,7],stddev=0.01))\n",
        "model = tf.matmul(L2,w3)\n",
        "\n",
        "cost = tf.reduce_mean(tf.nn.softmax_cross_entropy_with_logits(logits=model,labels=y))\n",
        "optimizer = tf.train.AdamOptimizer(0.001).minimize(cost)\n"
      ],
      "execution_count": 0,
      "outputs": []
    },
    {
      "metadata": {
        "id": "tmriaw6ekOA4",
        "colab_type": "text"
      },
      "cell_type": "markdown",
      "source": [
        "신경망 모델 학습\n",
        "\n",
        " batch size를 100으로 두고 drop-out을 0.8로 설정하여 진행"
      ]
    },
    {
      "metadata": {
        "id": "be4nvdokkdD4",
        "colab_type": "code",
        "colab": {
          "base_uri": "https://localhost:8080/",
          "height": 35
        },
        "outputId": "069ee2c2-ceb1-412b-b1e4-e21b5c28f986"
      },
      "cell_type": "code",
      "source": [
        "init = tf.global_variables_initializer()\n",
        "saver = tf.train.Saver()\n",
        "sess = tf.Session()\n",
        "sess.run(init)\n",
        "\n",
        "batch_size = 100\n",
        "total_batch = int(len(X_train[0])/batch_size)\n",
        "for epoch in range(20):\n",
        "    total_cost = 0\n",
        "\n",
        "    for i in range(total_batch):\n",
        "        _, cv = sess.run([optimizer,cost],feed_dict={x:X_train,y:y_train,keep_prob:0.8})\n",
        "        total_cost += cv\n",
        "#     print(\"epoch :\", \" %d\" % (epoch+1), \"avg cost : \",\"{:.3f}\".format(total_cost/total_batch))\n",
        "    is_correct = tf.equal(tf.argmax(model,1), tf.argmax(y,1))\n",
        "    accuracy = tf.reduce_mean(tf.cast(is_correct, dtype=tf.float32))\n",
        "print(\"정확도 : \", sess.run(accuracy,feed_dict={x:X_test,y:y_test,keep_prob:1.0}))\n",
        "\n",
        "saver.save(sess, 'drive/Colab Notebooks/datasetcnn_session')\n",
        "sess.close()\n"
      ],
      "execution_count": 16,
      "outputs": [
        {
          "output_type": "stream",
          "text": [
            "정확도 :  0.66596067\n"
          ],
          "name": "stdout"
        }
      ]
    },
    {
      "metadata": {
        "id": "gLtBKzeikhrA",
        "colab_type": "text"
      },
      "cell_type": "markdown",
      "source": [
        "결과 avg cost :  2.989\n",
        "정확도 :  0.66596067\n",
        "epoch :  2 avg cost :  1.084\n",
        "정확도 :  0.66596067\n",
        "epoch :  3 avg cost :  1.006\n",
        "정확도 :  0.66596067\n",
        "epoch :  4 avg cost :  0.992\n",
        "정확도 :  0.66596067\n",
        "epoch :  5 avg cost :  0.959\n",
        "정확도 :  0.66596067\n",
        "epoch :  6 avg cost :  0.940\n",
        "정확도 :  0.66596067\n",
        "epoch :  7 avg cost :  0.927\n",
        "정확도 :  0.66596067\n",
        "epoch :  8 avg cost :  0.921\n",
        "정확도 :  0.66596067\n",
        "epoch :  9 avg cost :  1.014\n",
        "정확도 :  0.66596067\n",
        "epoch :  10 avg cost :  0.955\n",
        "정확도 :  0.66596067\n",
        "epoch :  11 avg cost :  0.938\n",
        "정확도 :  0.66596067\n",
        "epoch :  12 avg cost :  0.935\n",
        "정확도 :  0.66596067\n",
        "epoch :  13 avg cost :  0.921\n",
        "정확도 :  0.66596067\n",
        "epoch :  14 avg cost :  0.921\n",
        "정확도 :  0.66596067\n",
        "epoch :  15 avg cost :  0.920\n",
        "정확도 :  0.66596067\n",
        "epoch :  16 avg cost :  0.952\n",
        "정확도 :  0.66596067\n",
        "epoch :  17 avg cost :  0.916\n",
        "정확도 :  0.66656584\n",
        "epoch :  18 avg cost :  0.911\n",
        "정확도 :  0.66807866\n",
        "epoch :  19 avg cost :  0.917\n",
        "정확도 :  0.66717094\n",
        "epoch :  20 avg cost :  0.903\n",
        "정확도 :  0.66747355"
      ]
    }
  ]
}